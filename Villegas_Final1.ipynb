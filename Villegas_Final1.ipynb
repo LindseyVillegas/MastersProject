{
 "cells": [
  {
   "cell_type": "markdown",
   "metadata": {},
   "source": [
    "### Creating the point grid.\n",
    "\n",
    "To create the point grid, shapefiles are uploaded. The spacings used are 0.075 degrees for statewide, 0.05 degree for large districts, and 0.01 for small districts, which are changed in the 'by' variable. After the point grid for a state is created, the shapefile must be clipped to select the points within the congressional districts. The unclipped grids are saved as a geographic identifier (wa, cd01, cd02, etc...), then a three digit number (representing the degree spacing) followed by 'grid'. The clipped features follow the same naming convention, but with the suffix 'pts'. All of these can be found in the Shapes folder."
   ]
  },
  {
   "cell_type": "code",
   "execution_count": 1,
   "metadata": {},
   "outputs": [
    {
     "ename": "ValueError",
     "evalue": "Unstacked DataFrame is too big, causing int32 overflow",
     "output_type": "error",
     "traceback": [
      "\u001b[1;31m---------------------------------------------------------------------------\u001b[0m",
      "\u001b[1;31mValueError\u001b[0m                                Traceback (most recent call last)",
      "\u001b[1;32m<ipython-input-1-66f1fe0b4d86>\u001b[0m in \u001b[0;36m<module>\u001b[1;34m\u001b[0m\n\u001b[0;32m     32\u001b[0m     pd.concat([pd.DataFrame({'pts_lon' : np.arange(float(wa.bounds['minx']), float(wa.bounds['maxx']), by)})\n\u001b[0;32m     33\u001b[0m        , (pd.DataFrame({'pts_lat' : np.arange(float(wa.bounds['miny']), float(wa.bounds['maxy']), by)})\n\u001b[1;32m---> 34\u001b[1;33m           .pivot(columns = 'pts_lat', values = 'pts_lat'))]\n\u001b[0m\u001b[0;32m     35\u001b[0m         \u001b[1;33m,\u001b[0m \u001b[0maxis\u001b[0m \u001b[1;33m=\u001b[0m \u001b[1;36m1\u001b[0m\u001b[1;33m\u001b[0m\u001b[1;33m\u001b[0m\u001b[0m\n\u001b[0;32m     36\u001b[0m              )\n",
      "\u001b[1;32m~\\Anaconda3\\envs\\project501a\\lib\\site-packages\\pandas\\core\\frame.py\u001b[0m in \u001b[0;36mpivot\u001b[1;34m(self, index, columns, values)\u001b[0m\n\u001b[0;32m   5626\u001b[0m     \u001b[1;32mdef\u001b[0m \u001b[0mpivot\u001b[0m\u001b[1;33m(\u001b[0m\u001b[0mself\u001b[0m\u001b[1;33m,\u001b[0m \u001b[0mindex\u001b[0m\u001b[1;33m=\u001b[0m\u001b[1;32mNone\u001b[0m\u001b[1;33m,\u001b[0m \u001b[0mcolumns\u001b[0m\u001b[1;33m=\u001b[0m\u001b[1;32mNone\u001b[0m\u001b[1;33m,\u001b[0m \u001b[0mvalues\u001b[0m\u001b[1;33m=\u001b[0m\u001b[1;32mNone\u001b[0m\u001b[1;33m)\u001b[0m\u001b[1;33m:\u001b[0m\u001b[1;33m\u001b[0m\u001b[1;33m\u001b[0m\u001b[0m\n\u001b[0;32m   5627\u001b[0m         \u001b[1;32mfrom\u001b[0m \u001b[0mpandas\u001b[0m\u001b[1;33m.\u001b[0m\u001b[0mcore\u001b[0m\u001b[1;33m.\u001b[0m\u001b[0mreshape\u001b[0m\u001b[1;33m.\u001b[0m\u001b[0mpivot\u001b[0m \u001b[1;32mimport\u001b[0m \u001b[0mpivot\u001b[0m\u001b[1;33m\u001b[0m\u001b[1;33m\u001b[0m\u001b[0m\n\u001b[1;32m-> 5628\u001b[1;33m         \u001b[1;32mreturn\u001b[0m \u001b[0mpivot\u001b[0m\u001b[1;33m(\u001b[0m\u001b[0mself\u001b[0m\u001b[1;33m,\u001b[0m \u001b[0mindex\u001b[0m\u001b[1;33m=\u001b[0m\u001b[0mindex\u001b[0m\u001b[1;33m,\u001b[0m \u001b[0mcolumns\u001b[0m\u001b[1;33m=\u001b[0m\u001b[0mcolumns\u001b[0m\u001b[1;33m,\u001b[0m \u001b[0mvalues\u001b[0m\u001b[1;33m=\u001b[0m\u001b[0mvalues\u001b[0m\u001b[1;33m)\u001b[0m\u001b[1;33m\u001b[0m\u001b[1;33m\u001b[0m\u001b[0m\n\u001b[0m\u001b[0;32m   5629\u001b[0m \u001b[1;33m\u001b[0m\u001b[0m\n\u001b[0;32m   5630\u001b[0m     _shared_docs['pivot_table'] = \"\"\"\n",
      "\u001b[1;32m~\\Anaconda3\\envs\\project501a\\lib\\site-packages\\pandas\\core\\reshape\\pivot.py\u001b[0m in \u001b[0;36mpivot\u001b[1;34m(data, index, columns, values)\u001b[0m\n\u001b[0;32m    386\u001b[0m             indexed = data._constructor_sliced(data[values].values,\n\u001b[0;32m    387\u001b[0m                                                index=index)\n\u001b[1;32m--> 388\u001b[1;33m     \u001b[1;32mreturn\u001b[0m \u001b[0mindexed\u001b[0m\u001b[1;33m.\u001b[0m\u001b[0munstack\u001b[0m\u001b[1;33m(\u001b[0m\u001b[0mcolumns\u001b[0m\u001b[1;33m)\u001b[0m\u001b[1;33m\u001b[0m\u001b[1;33m\u001b[0m\u001b[0m\n\u001b[0m\u001b[0;32m    389\u001b[0m \u001b[1;33m\u001b[0m\u001b[0m\n\u001b[0;32m    390\u001b[0m \u001b[1;33m\u001b[0m\u001b[0m\n",
      "\u001b[1;32m~\\Anaconda3\\envs\\project501a\\lib\\site-packages\\pandas\\core\\series.py\u001b[0m in \u001b[0;36munstack\u001b[1;34m(self, level, fill_value)\u001b[0m\n\u001b[0;32m   3299\u001b[0m         \"\"\"\n\u001b[0;32m   3300\u001b[0m         \u001b[1;32mfrom\u001b[0m \u001b[0mpandas\u001b[0m\u001b[1;33m.\u001b[0m\u001b[0mcore\u001b[0m\u001b[1;33m.\u001b[0m\u001b[0mreshape\u001b[0m\u001b[1;33m.\u001b[0m\u001b[0mreshape\u001b[0m \u001b[1;32mimport\u001b[0m \u001b[0munstack\u001b[0m\u001b[1;33m\u001b[0m\u001b[1;33m\u001b[0m\u001b[0m\n\u001b[1;32m-> 3301\u001b[1;33m         \u001b[1;32mreturn\u001b[0m \u001b[0munstack\u001b[0m\u001b[1;33m(\u001b[0m\u001b[0mself\u001b[0m\u001b[1;33m,\u001b[0m \u001b[0mlevel\u001b[0m\u001b[1;33m,\u001b[0m \u001b[0mfill_value\u001b[0m\u001b[1;33m)\u001b[0m\u001b[1;33m\u001b[0m\u001b[1;33m\u001b[0m\u001b[0m\n\u001b[0m\u001b[0;32m   3302\u001b[0m \u001b[1;33m\u001b[0m\u001b[0m\n\u001b[0;32m   3303\u001b[0m     \u001b[1;31m# ----------------------------------------------------------------------\u001b[0m\u001b[1;33m\u001b[0m\u001b[1;33m\u001b[0m\u001b[1;33m\u001b[0m\u001b[0m\n",
      "\u001b[1;32m~\\Anaconda3\\envs\\project501a\\lib\\site-packages\\pandas\\core\\reshape\\reshape.py\u001b[0m in \u001b[0;36munstack\u001b[1;34m(obj, level, fill_value)\u001b[0m\n\u001b[0;32m    394\u001b[0m         unstacker = _Unstacker(obj.values, obj.index, level=level,\n\u001b[0;32m    395\u001b[0m                                \u001b[0mfill_value\u001b[0m\u001b[1;33m=\u001b[0m\u001b[0mfill_value\u001b[0m\u001b[1;33m,\u001b[0m\u001b[1;33m\u001b[0m\u001b[1;33m\u001b[0m\u001b[0m\n\u001b[1;32m--> 396\u001b[1;33m                                constructor=obj._constructor_expanddim)\n\u001b[0m\u001b[0;32m    397\u001b[0m         \u001b[1;32mreturn\u001b[0m \u001b[0munstacker\u001b[0m\u001b[1;33m.\u001b[0m\u001b[0mget_result\u001b[0m\u001b[1;33m(\u001b[0m\u001b[1;33m)\u001b[0m\u001b[1;33m\u001b[0m\u001b[1;33m\u001b[0m\u001b[0m\n\u001b[0;32m    398\u001b[0m \u001b[1;33m\u001b[0m\u001b[0m\n",
      "\u001b[1;32m~\\Anaconda3\\envs\\project501a\\lib\\site-packages\\pandas\\core\\reshape\\reshape.py\u001b[0m in \u001b[0;36m__init__\u001b[1;34m(self, values, index, level, value_columns, fill_value, constructor)\u001b[0m\n\u001b[0;32m    122\u001b[0m \u001b[1;33m\u001b[0m\u001b[0m\n\u001b[0;32m    123\u001b[0m         \u001b[1;32mif\u001b[0m \u001b[0mnum_rows\u001b[0m \u001b[1;33m>\u001b[0m \u001b[1;36m0\u001b[0m \u001b[1;32mand\u001b[0m \u001b[0mnum_columns\u001b[0m \u001b[1;33m>\u001b[0m \u001b[1;36m0\u001b[0m \u001b[1;32mand\u001b[0m \u001b[0mnum_cells\u001b[0m \u001b[1;33m<=\u001b[0m \u001b[1;36m0\u001b[0m\u001b[1;33m:\u001b[0m\u001b[1;33m\u001b[0m\u001b[1;33m\u001b[0m\u001b[0m\n\u001b[1;32m--> 124\u001b[1;33m             raise ValueError('Unstacked DataFrame is too big, '\n\u001b[0m\u001b[0;32m    125\u001b[0m                              'causing int32 overflow')\n\u001b[0;32m    126\u001b[0m \u001b[1;33m\u001b[0m\u001b[0m\n",
      "\u001b[1;31mValueError\u001b[0m: Unstacked DataFrame is too big, causing int32 overflow"
     ]
    }
   ],
   "source": [
    "import pandas as pd\n",
    "import os\n",
    "import geopandas as gpd\n",
    "import numpy as np\n",
    "import matplotlib.pyplot as plt\n",
    "from shapely.geometry import Point\n",
    "from geopandas import GeoDataFrame\n",
    "from shapely.geometry import Polygon\n",
    "import matplotlib as mpl\n",
    "\n",
    "# This sets Jupyter Notebook to the 'inline' backend.\n",
    "%matplotlib inline \n",
    "mpl.rcParams['figure.figsize'] = (14,14)\n",
    "\n",
    "# Sets keys and projections.\n",
    "# '4326' is the WGS84 projection. Check http://spatialreference.org/ref/sr-org/?page=1 for different projections.\n",
    "nan = 'np.nan'\n",
    "bing_api_key = ''\n",
    "crs = {'init': 'esri:102273'}\n",
    "\n",
    "# Sets up reading the state shapefile\n",
    "shp = 'Shapes/Indiana/cb_2017_State_IN.shp'\n",
    "us = gpd.read_file(shp)\n",
    "wa = us[us['STUSPS']==\"IN\"]\n",
    "\n",
    "# Point Grid size. Use 0.075 for statewide, 0.05 for large districts, 0.01 for small districts.\n",
    "by = 0.075\n",
    "\n",
    "\n",
    "# This creates the pandas data frame for the points grid.\n",
    "pts_grid = (\n",
    "    pd.concat([pd.DataFrame({'pts_lon' : np.arange(float(wa.bounds['minx']), float(wa.bounds['maxx']), by)})\n",
    "       , (pd.DataFrame({'pts_lat' : np.arange(float(wa.bounds['miny']), float(wa.bounds['maxy']), by)})\n",
    "          .pivot(columns = 'pts_lat', values = 'pts_lat'))]\n",
    "        , axis = 1\n",
    "             )\n",
    "    .replace(method='ffill')\n",
    "    .replace(method='bfill')\n",
    "    .melt(id_vars=['pts_lon'])\n",
    "    .drop('variable', 1)\n",
    "    .rename(columns = {'value' : 'pts_lat'})\n",
    "    .reset_index()\n",
    "    .rename(columns={\"index\": \"point_id\"})\n",
    "            )\n",
    "\n",
    "# This sets the latitude and longitude of the points, then puts them into a geodataframe.\n",
    "geometry_pts = [Point(xy) for xy in zip(pts_grid.pts_lon, pts_grid.pts_lat)]\n",
    "gdf_pts_grid = GeoDataFrame(pts_grid, crs=crs, geometry=geometry_pts)\n",
    "\n",
    "# This creates the plot of the point grid, setting the color of the shapefile and the background.\n",
    "wa_plot = wa.plot(color='#C4C9CE', edgecolor='white')\n",
    "\n",
    "# This plots the point grid over the shapefile.\n",
    "(gdf_pts_grid\n",
    "    .plot(ax=wa_plot, alpha = .3)\n",
    "    .set_axis_off())\n",
    "\n",
    "# This saves the point grid as a shapefile. It also shows the table for the point grid.\n",
    "gdf_pts_grid.to_file(\"Shapes/Indiana/IN_grid.shp\")\n",
    "gdf_pts_grid"
   ]
  },
  {
   "cell_type": "markdown",
   "metadata": {},
   "source": [
    "This is to ensure that the points were clipped correctly."
   ]
  },
  {
   "cell_type": "code",
   "execution_count": 15,
   "metadata": {},
   "outputs": [
    {
     "data": {
      "text/plain": [
       "<matplotlib.axes._subplots.AxesSubplot at 0x1c43b84ddd8>"
      ]
     },
     "execution_count": 15,
     "metadata": {},
     "output_type": "execute_result"
    },
    {
     "data": {
      "image/png": "[encoded data removed]",
      "text/plain": [
       "<Figure size 1008x1008 with 1 Axes>"
      ]
     },
     "metadata": {
      "needs_background": "light"
     },
     "output_type": "display_data"
    }
   ],
   "source": [
    "# This sets Jupyter Notebook to the 'inline' backend.\n",
    "%matplotlib inline \n",
    "mpl.rcParams['figure.figsize'] = (14,14)\n",
    "\n",
    "# This pulls in the shapefile of the points after clipping them.\n",
    "pts = 'Shapes/Texas/TX_01grid_clip.shp'\n",
    "\n",
    "# This reads the shapefile with geopandas then plots it.\n",
    "wa_pt_grid = gpd.read_file(pts)\n",
    "wa_pt_grid.plot(alpha = .1)"
   ]
  },
  {
   "cell_type": "markdown",
   "metadata": {},
   "source": [
    "### Calculating Travel Time and Populating the Matrix\n",
    "\n",
    "A distance matrix is comprised of a table of N by N dimensions. Each row and column of the cell value contains a 'similarity' between the heading and index (the first row and column) values. Travel times are used between each combination of points as the similarity, instead of the typical euclidean distances. This will be utilized in the Multidimensional Scaling script further on.\n",
    "\n",
    "One important note: if the heading row and the index column are identical, then row 'X' and column 'Y' will have the same value as row 'Y' column 'X'. This symmetry can be used to reduce the number of geocoding requests that need to be made. This is used with the itertools library function called combinations. This function looks at a list of values and returns the second list of all possible unique combinations that exist within that list.\n",
    "\n",
    "The Bing API is used below to build the distance matrix for a clipped district shapefile. The larger point spacing (0.075) is used here to accelerate the process in case it needs to be run multiple times."
   ]
  },
  {
   "cell_type": "code",
   "execution_count": 13,
   "metadata": {},
   "outputs": [
    {
     "name": "stdout",
     "output_type": "stream",
     "text": [
      "The amount of points in the shapefile is:  41\n",
      "The amount of unique combinations is:  820\n",
      "The total possible combinations for the shapefile is:  1681\n",
      "Process completed for Shapes/Pennsylvania/cb_2017_State_PA_CD_7_clip.shp\n"
     ]
    }
   ],
   "source": [
    "from itertools import combinations\n",
    "from random import randint\n",
    "import json\n",
    "from requests.exceptions import HTTPError\n",
    "from urllib.error import URLError\n",
    "import simplejson\n",
    "import urllib\n",
    "from datetime import datetime\n",
    "from decimal import Decimal\n",
    "from arcgis.features import SpatialDataFrame\n",
    "import pickle\n",
    "import geopandas as gpd\n",
    "from arcgis import GIS\n",
    "\n",
    "# Pulls the shapefiles for the congressional district and reads the file in geopandas.\n",
    "file = 'Shapes/Pennsylvania/cb_2017_State_PA_CD_7_clip.shp'\n",
    "CDgrid = gpd.read_file(file)\n",
    "\n",
    "# This zips the lat/long into a single column.\n",
    "CDgrid['lat,long'] = list(zip(CDgrid.pts_lat, CDgrid.pts_lon))\n",
    "\n",
    "# This creates a list of all coordinates so it can be writen to NxN matrix.\n",
    "xytups = CDgrid['lat,long'].tolist()\n",
    "\n",
    "# This finds all the unique combinations of list entries. It them removes duplicate geocoding.\n",
    "# This does assume that the travel time from A to B is equal to B to A.\n",
    "unicombos = [comb for comb in combinations(xytups, 2)]  \n",
    "\n",
    "# This shows how many points, unique combinations, and possible combinations for the shapefile.\n",
    "pointcount = len(xytups)\n",
    "totalcombinations = len(xytups)*len(xytups)\n",
    "print('The amount of points in the shapefile is: ', pointcount)\n",
    "print('The amount of unique combinations is: ', len(unicombos)) \n",
    "print('The total possible combinations for the shapefile is: ',totalcombinations)\n",
    "   \n",
    "# This creates the similarity matrix of n by n points.\n",
    "dmatrix = pd.DataFrame(index = xytups, columns = xytups)\n",
    "dmatrix\n",
    "\n",
    "# This utilizes the Bing API to populate the matrix. \n",
    "length = len(unicombos)\n",
    "key =''\n",
    "\n",
    " \n",
    "for i in range(length):\n",
    "    # This selects the target coordinate pairs in each unique tuple (origin, destination).\n",
    "    origtup = unicombos[i][0]\n",
    "    desttup = unicombos[i][1]\n",
    "    \n",
    "    # This selects the x and y coordinates for each of the pairs in the unique tuple.\n",
    "    origx = unicombos[i][0][0]\n",
    "    origy = unicombos[i][0][1]    \n",
    "    destx = unicombos[i][1][0]\n",
    "    desty = unicombos[i][1][1]\n",
    "     \n",
    "    # This casts coordinates to string for the API.    \n",
    "    strox = str(origx)\n",
    "    stroy = str(origy)\n",
    "    strdx = str(destx)\n",
    "    strdy = str(desty)\n",
    "    \n",
    "    # This calculates the travel times.\n",
    "    # ttime = randint(1000,9999)\n",
    "    try:\n",
    "        url = 'http://dev.virtualearth.net/REST/V1/Routes/Driving?wp.0=' + strox + ',' + stroy + '&wp.1=' + strdx + ',' + strdy + '&key=' + key\n",
    "        request = urllib.request.Request(url)\n",
    "        response = urllib.request.urlopen(request)\n",
    "    except HTTPError:\n",
    "        ttime = Decimal('nan')\n",
    "    except URLError:\n",
    "        ttime = Decimal('nan')\n",
    "    else:\n",
    "        r = response.read().decode(encoding=\"utf-8\")\n",
    "        result = json.loads(r)\n",
    "        ttime = (result[\"resourceSets\"][0][\"resources\"][0][\"travelDurationTraffic\"])\n",
    "    \n",
    "    # This populates the matrix.\n",
    "    dmatrix.loc[origtup, desttup]= ttime\n",
    "    dmatrix.loc[desttup, origtup]= ttime\n",
    "    # Setting travel time between identical points to 0, but MDS doesn't like zeros. \n",
    "    # This is easy to replace, just need to figure out what to replace with.\n",
    "    dmatrix.loc[origtup, origtup]= 0 \n",
    "    # This tries to catch the last NaN\n",
    "    if i == length:\n",
    "        dmatrix.loc[desttup, desttup] = 0\n",
    "\n",
    "# This converts the matrix into a pickle file.\n",
    "dmatrix.to_pickle('Shapes/Pennsylvania/cb_2017_State_PA_CD_7_clip.pkl')\n",
    "print('Process completed for '+ file)"
   ]
  },
  {
   "cell_type": "code",
   "execution_count": null,
   "metadata": {},
   "outputs": [],
   "source": []
  }
 ],
 "metadata": {
  "kernelspec": {
   "display_name": "Python 3",
   "language": "python",
   "name": "python3"
  },
  "language_info": {
   "codemirror_mode": {
    "name": "ipython",
    "version": 3
   },
   "file_extension": ".py",
   "mimetype": "text/x-python",
   "name": "python",
   "nbconvert_exporter": "python",
   "pygments_lexer": "ipython3",
   "version": "3.6.8"
  }
 },
 "nbformat": 4,
 "nbformat_minor": 2
}
